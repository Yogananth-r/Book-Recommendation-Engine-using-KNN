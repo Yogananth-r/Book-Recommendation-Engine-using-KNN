{
  "cells": [
    {
      "cell_type": "markdown",
      "metadata": {
        "id": "view-in-github",
        "colab_type": "text"
      },
      "source": [
        "<a href=\"https://colab.research.google.com/github/Yogananth-r/Book-Recommendation-Engine-using-KNN/blob/main/fcc_book_recommendation_knn_ml.ipynb\" target=\"_parent\"><img src=\"https://colab.research.google.com/assets/colab-badge.svg\" alt=\"Open In Colab\"/></a>"
      ]
    },
    {
      "cell_type": "markdown",
      "metadata": {
        "id": "uGd4NYQX1Rf_"
      },
      "source": [
        "\n",
        "---\n",
        "\n",
        "In this challenge, you will create a book recommendation algorithm using **K-Nearest Neighbors**.\n",
        "\n",
        "You will use the [Book-Crossings dataset](http://www2.informatik.uni-freiburg.de/~cziegler/BX/). This dataset contains 1.1 million ratings (scale of 1-10) of 270,000 books by 90,000 users. \n",
        "\n",
        "After importing and cleaning the data, use `NearestNeighbors` from `sklearn.neighbors` to develop a model that shows books that are similar to a given book. The Nearest Neighbors algorithm measures distance to determine the “closeness” of instances.\n",
        "\n",
        "Create a function named `get_recommends` that takes a book title (from the dataset) as an argument and returns a list of 5 similar books with their distances from the book argument.\n",
        "\n",
        "This code:\n",
        "\n",
        "`get_recommends(\"The Queen of the Damned (Vampire Chronicles (Paperback))\")`\n",
        "\n",
        "should return:\n",
        "\n",
        "```\n",
        "[\n",
        "  'The Queen of the Damned (Vampire Chronicles (Paperback))',\n",
        "  [\n",
        "    ['Catch 22', 0.793983519077301], \n",
        "    ['The Witching Hour (Lives of the Mayfair Witches)', 0.7448656558990479], \n",
        "    ['Interview with the Vampire', 0.7345068454742432],\n",
        "    ['The Tale of the Body Thief (Vampire Chronicles (Paperback))', 0.5376338362693787],\n",
        "    ['The Vampire Lestat (Vampire Chronicles, Book II)', 0.5178412199020386]\n",
        "  ]\n",
        "]\n",
        "```\n",
        "\n",
        "Notice that the data returned from `get_recommends()` is a list. The first element in the list is the book title passed in to the function. The second element in the list is a list of five more lists. Each of the five lists contains a recommended book and the distance from the recommended book to the book passed in to the function.\n",
        "\n",
        "If you graph the dataset (optional), you will notice that most books are not rated frequently. To ensure statistical significance, remove from the dataset users with less than 200 ratings and books with less than 100 ratings.\n",
        "\n",
        "The first three cells import libraries you may need and the data to use. The final cell is for testing. Write all your code in between those cells."
      ]
    },
    {
      "cell_type": "code",
      "execution_count": null,
      "metadata": {
        "id": "Y1onB6kUvo4Z"
      },
      "outputs": [],
      "source": [
        "# import libraries (you may add additional imports but you may not have to)\n",
        "import numpy as np\n",
        "import pandas as pd\n",
        "from scipy.sparse import csr_matrix\n",
        "from sklearn.neighbors import NearestNeighbors\n",
        "import matplotlib.pyplot as plt"
      ]
    },
    {
      "cell_type": "code",
      "execution_count": null,
      "metadata": {
        "id": "iAQGqqO_vo4d",
        "colab": {
          "base_uri": "https://localhost:8080/"
        },
        "outputId": "bd8bcb77-7294-439d-f20a-3abd430447dd"
      },
      "outputs": [
        {
          "output_type": "stream",
          "name": "stdout",
          "text": [
            "--2022-09-03 17:13:23--  https://cdn.freecodecamp.org/project-data/books/book-crossings.zip\n",
            "Resolving cdn.freecodecamp.org (cdn.freecodecamp.org)... 172.67.70.149, 104.26.3.33, 104.26.2.33, ...\n",
            "Connecting to cdn.freecodecamp.org (cdn.freecodecamp.org)|172.67.70.149|:443... connected.\n",
            "HTTP request sent, awaiting response... 200 OK\n",
            "Length: 26085508 (25M) [application/zip]\n",
            "Saving to: ‘book-crossings.zip’\n",
            "\n",
            "book-crossings.zip  100%[===================>]  24.88M  97.2MB/s    in 0.3s    \n",
            "\n",
            "2022-09-03 17:13:24 (97.2 MB/s) - ‘book-crossings.zip’ saved [26085508/26085508]\n",
            "\n",
            "Archive:  book-crossings.zip\n",
            "  inflating: BX-Book-Ratings.csv     \n",
            "  inflating: BX-Books.csv            \n",
            "  inflating: BX-Users.csv            \n"
          ]
        }
      ],
      "source": [
        "# get data files\n",
        "!wget https://cdn.freecodecamp.org/project-data/books/book-crossings.zip\n",
        "\n",
        "!unzip book-crossings.zip\n",
        "\n",
        "books_filename = 'BX-Books.csv'\n",
        "ratings_filename = 'BX-Book-Ratings.csv'"
      ]
    },
    {
      "cell_type": "code",
      "execution_count": null,
      "metadata": {
        "id": "NClILWOiEd6Q"
      },
      "outputs": [],
      "source": [
        "# import csv data into dataframes\n",
        "df_books = pd.read_csv(\n",
        "    books_filename,\n",
        "    encoding = \"ISO-8859-1\",\n",
        "    sep=\";\",\n",
        "    header=0,\n",
        "    names=['isbn', 'title', 'author'],\n",
        "    usecols=['isbn', 'title', 'author'],\n",
        "    dtype={'isbn': 'str', 'title': 'str', 'author': 'str'})\n",
        "\n",
        "df_ratings = pd.read_csv(\n",
        "    ratings_filename,\n",
        "    encoding = \"ISO-8859-1\",\n",
        "    sep=\";\",\n",
        "    header=0,\n",
        "    names=['user', 'isbn', 'rating'],\n",
        "    usecols=['user', 'isbn', 'rating'],\n",
        "    dtype={'user': 'int32', 'isbn': 'str', 'rating': 'float32'})"
      ]
    },
    {
      "cell_type": "code",
      "execution_count": null,
      "metadata": {
        "id": "xAcXjkCFCh0A",
        "colab": {
          "base_uri": "https://localhost:8080/"
        },
        "outputId": "dc7e2831-fa8c-4dc4-f734-024e04eb5515"
      },
      "outputs": [
        {
          "output_type": "stream",
          "name": "stdout",
          "text": [
            "              isbn                                              title  \\\n",
            "0       0195153448                                Classical Mythology   \n",
            "1       0002005018                                       Clara Callan   \n",
            "2       0060973129                               Decision in Normandy   \n",
            "3       0374157065  Flu: The Story of the Great Influenza Pandemic...   \n",
            "4       0393045218                             The Mummies of Urumchi   \n",
            "...            ...                                                ...   \n",
            "271374  0440400988                         There's a Bat in Bunk Five   \n",
            "271375  0525447644                            From One to One Hundred   \n",
            "271376  006008667X  Lily Dale : The True Story of the Town that Ta...   \n",
            "271377  0192126040                        Republic (World's Classics)   \n",
            "271378  0767409752  A Guided Tour of Rene Descartes' Meditations o...   \n",
            "\n",
            "                      author  \n",
            "0         Mark P. O. Morford  \n",
            "1       Richard Bruce Wright  \n",
            "2               Carlo D'Este  \n",
            "3           Gina Bari Kolata  \n",
            "4            E. J. W. Barber  \n",
            "...                      ...  \n",
            "271374        Paula Danziger  \n",
            "271375            Teri Sloat  \n",
            "271376      Christine Wicker  \n",
            "271377                 Plato  \n",
            "271378   Christopher  Biffle  \n",
            "\n",
            "[271379 rows x 3 columns]\n",
            "           user         isbn  rating\n",
            "0        276725   034545104X     0.0\n",
            "1        276726   0155061224     5.0\n",
            "2        276727   0446520802     0.0\n",
            "3        276729   052165615X     3.0\n",
            "4        276729   0521795028     6.0\n",
            "...         ...          ...     ...\n",
            "1149775  276704   1563526298     9.0\n",
            "1149776  276706   0679447156     0.0\n",
            "1149777  276709   0515107662    10.0\n",
            "1149778  276721   0590442449    10.0\n",
            "1149779  276723  05162443314     8.0\n",
            "\n",
            "[1149780 rows x 3 columns]\n"
          ]
        }
      ],
      "source": [
        "print(df_books)\n",
        "print(df_ratings)"
      ]
    },
    {
      "cell_type": "code",
      "source": [
        "user_ratingcount=df_ratings.groupby('user')['rating'].count().reset_index().rename(columns={'rating':'userTotalRatingCount'})\n",
        "book_ratingcount=df_ratings.groupby('isbn')['rating'].count().reset_index().rename(columns={'rating':'bookTotalRatingCount'})\n",
        "\n",
        "df_ratings= df_ratings.merge(user_ratingcount,how='left',left_on='user',right_on='user')\n",
        "df_ratings= df_ratings.merge(book_ratingcount,how='left',left_on='isbn',right_on='isbn')\n",
        "\n",
        "df_ratings2=df_ratings.loc[(df_ratings['userTotalRatingCount']>=200)&(df_ratings['bookTotalRatingCount']>=100)]"
      ],
      "metadata": {
        "id": "b2VI-V3vXZdX"
      },
      "execution_count": null,
      "outputs": []
    },
    {
      "cell_type": "code",
      "source": [
        "books_with_ratings=pd.merge(df_ratings2,df_books,on='isbn')\n",
        "print(books_with_ratings)"
      ],
      "metadata": {
        "colab": {
          "base_uri": "https://localhost:8080/"
        },
        "id": "4ao8H5w9ZMrm",
        "outputId": "e465fb88-df2a-407e-b08a-554d06de85f9"
      },
      "execution_count": null,
      "outputs": [
        {
          "output_type": "stream",
          "name": "stdout",
          "text": [
            "         user        isbn  rating  userTotalRatingCount  bookTotalRatingCount  \\\n",
            "0      277427  002542730X    10.0                   497                   171   \n",
            "1        3363  002542730X     0.0                   901                   171   \n",
            "2       11676  002542730X     6.0                 13602                   171   \n",
            "3       12538  002542730X    10.0                  1351                   171   \n",
            "4       13552  002542730X     0.0                   709                   171   \n",
            "...       ...         ...     ...                   ...                   ...   \n",
            "49512  238864  0399149325     0.0                   353                   113   \n",
            "49513  251843  0399149325     1.0                   338                   113   \n",
            "49514  253821  0399149325     0.0                   337                   113   \n",
            "49515  265115  0399149325     0.0                  1221                   113   \n",
            "49516  266226  0399149325     0.0                  1314                   113   \n",
            "\n",
            "                                                   title             author  \n",
            "0      Politically Correct Bedtime Stories: Modern Ta...  James Finn Garner  \n",
            "1      Politically Correct Bedtime Stories: Modern Ta...  James Finn Garner  \n",
            "2      Politically Correct Bedtime Stories: Modern Ta...  James Finn Garner  \n",
            "3      Politically Correct Bedtime Stories: Modern Ta...  James Finn Garner  \n",
            "4      Politically Correct Bedtime Stories: Modern Ta...  James Finn Garner  \n",
            "...                                                  ...                ...  \n",
            "49512  Portrait of a Killer: Jack the Ripper -- Case ...  Patricia Cornwell  \n",
            "49513  Portrait of a Killer: Jack the Ripper -- Case ...  Patricia Cornwell  \n",
            "49514  Portrait of a Killer: Jack the Ripper -- Case ...  Patricia Cornwell  \n",
            "49515  Portrait of a Killer: Jack the Ripper -- Case ...  Patricia Cornwell  \n",
            "49516  Portrait of a Killer: Jack the Ripper -- Case ...  Patricia Cornwell  \n",
            "\n",
            "[49517 rows x 7 columns]\n"
          ]
        }
      ]
    },
    {
      "cell_type": "code",
      "source": [
        "book_with_ratings2=books_with_ratings.drop_duplicates(['title','user'])"
      ],
      "metadata": {
        "id": "oGhZxdu3Zh4e"
      },
      "execution_count": null,
      "outputs": []
    },
    {
      "cell_type": "code",
      "source": [
        "books_with_ratingspv=pd.pivot_table(data=book_with_ratings2,values='rating',index='title',columns='user').fillna(0)\n",
        "print(books_with_ratingspv)"
      ],
      "metadata": {
        "colab": {
          "base_uri": "https://localhost:8080/"
        },
        "id": "BPRGKgB8Zt6G",
        "outputId": "f964fe3a-c833-4388-c5be-6bcaa6090309"
      },
      "execution_count": null,
      "outputs": [
        {
          "output_type": "stream",
          "name": "stdout",
          "text": [
            "user                                                254     2276    2766    \\\n",
            "title                                                                        \n",
            "1984                                                   9.0     0.0     0.0   \n",
            "1st to Die: A Novel                                    0.0     0.0     0.0   \n",
            "2nd Chance                                             0.0    10.0     0.0   \n",
            "4 Blondes                                              0.0     0.0     0.0   \n",
            "A Beautiful Mind: The Life of Mathematical Geni...     0.0     0.0     0.0   \n",
            "...                                                    ...     ...     ...   \n",
            "Without Remorse                                        0.0     0.0     0.0   \n",
            "Year of Wonders                                        0.0     0.0     0.0   \n",
            "You Belong To Me                                       0.0     0.0     0.0   \n",
            "Zen and the Art of Motorcycle Maintenance: An I...     0.0     0.0     0.0   \n",
            "\\O\\\" Is for Outlaw\"                                    0.0     0.0     0.0   \n",
            "\n",
            "user                                                2977    3363    4017    \\\n",
            "title                                                                        \n",
            "1984                                                   0.0     0.0     0.0   \n",
            "1st to Die: A Novel                                    0.0     0.0     0.0   \n",
            "2nd Chance                                             0.0     0.0     0.0   \n",
            "4 Blondes                                              0.0     0.0     0.0   \n",
            "A Beautiful Mind: The Life of Mathematical Geni...     0.0     0.0     0.0   \n",
            "...                                                    ...     ...     ...   \n",
            "Without Remorse                                        0.0     0.0     0.0   \n",
            "Year of Wonders                                        7.0     0.0     0.0   \n",
            "You Belong To Me                                       0.0     0.0     0.0   \n",
            "Zen and the Art of Motorcycle Maintenance: An I...     0.0     0.0     0.0   \n",
            "\\O\\\" Is for Outlaw\"                                    0.0     0.0     0.0   \n",
            "\n",
            "user                                                4385    6242    6251    \\\n",
            "title                                                                        \n",
            "1984                                                   0.0     0.0     0.0   \n",
            "1st to Die: A Novel                                    0.0     0.0     0.0   \n",
            "2nd Chance                                             0.0     0.0     0.0   \n",
            "4 Blondes                                              0.0     0.0     0.0   \n",
            "A Beautiful Mind: The Life of Mathematical Geni...     0.0     0.0     0.0   \n",
            "...                                                    ...     ...     ...   \n",
            "Without Remorse                                        0.0     0.0     0.0   \n",
            "Year of Wonders                                        0.0     7.0     0.0   \n",
            "You Belong To Me                                       0.0     0.0     0.0   \n",
            "Zen and the Art of Motorcycle Maintenance: An I...     0.0     0.0     0.0   \n",
            "\\O\\\" Is for Outlaw\"                                    0.0     0.0     0.0   \n",
            "\n",
            "user                                                6323    ...  274004  \\\n",
            "title                                                       ...           \n",
            "1984                                                   0.0  ...     0.0   \n",
            "1st to Die: A Novel                                    0.0  ...     0.0   \n",
            "2nd Chance                                             0.0  ...     0.0   \n",
            "4 Blondes                                              0.0  ...     0.0   \n",
            "A Beautiful Mind: The Life of Mathematical Geni...     0.0  ...     0.0   \n",
            "...                                                    ...  ...     ...   \n",
            "Without Remorse                                        0.0  ...     0.0   \n",
            "Year of Wonders                                        0.0  ...     0.0   \n",
            "You Belong To Me                                       0.0  ...     0.0   \n",
            "Zen and the Art of Motorcycle Maintenance: An I...     0.0  ...     0.0   \n",
            "\\O\\\" Is for Outlaw\"                                    0.0  ...     0.0   \n",
            "\n",
            "user                                                274061  274301  274308  \\\n",
            "title                                                                        \n",
            "1984                                                   0.0     0.0     0.0   \n",
            "1st to Die: A Novel                                    0.0     0.0     0.0   \n",
            "2nd Chance                                             0.0     0.0     0.0   \n",
            "4 Blondes                                              0.0     0.0     0.0   \n",
            "A Beautiful Mind: The Life of Mathematical Geni...     0.0     0.0     0.0   \n",
            "...                                                    ...     ...     ...   \n",
            "Without Remorse                                        0.0     0.0     0.0   \n",
            "Year of Wonders                                        0.0     0.0     0.0   \n",
            "You Belong To Me                                       0.0     0.0     0.0   \n",
            "Zen and the Art of Motorcycle Maintenance: An I...     0.0     0.0     0.0   \n",
            "\\O\\\" Is for Outlaw\"                                    0.0     8.0     0.0   \n",
            "\n",
            "user                                                274808  275970  277427  \\\n",
            "title                                                                        \n",
            "1984                                                   0.0     0.0     0.0   \n",
            "1st to Die: A Novel                                    0.0     0.0     0.0   \n",
            "2nd Chance                                             0.0     0.0     0.0   \n",
            "4 Blondes                                              0.0     0.0     0.0   \n",
            "A Beautiful Mind: The Life of Mathematical Geni...     0.0     0.0     0.0   \n",
            "...                                                    ...     ...     ...   \n",
            "Without Remorse                                        0.0     0.0     0.0   \n",
            "Year of Wonders                                        0.0     0.0     0.0   \n",
            "You Belong To Me                                       0.0     0.0     0.0   \n",
            "Zen and the Art of Motorcycle Maintenance: An I...     0.0     0.0     0.0   \n",
            "\\O\\\" Is for Outlaw\"                                    0.0     0.0     0.0   \n",
            "\n",
            "user                                                277478  277639  278418  \n",
            "title                                                                       \n",
            "1984                                                   0.0     0.0     0.0  \n",
            "1st to Die: A Novel                                    0.0     0.0     0.0  \n",
            "2nd Chance                                             0.0     0.0     0.0  \n",
            "4 Blondes                                              0.0     0.0     0.0  \n",
            "A Beautiful Mind: The Life of Mathematical Geni...     0.0     0.0     0.0  \n",
            "...                                                    ...     ...     ...  \n",
            "Without Remorse                                        0.0     0.0     0.0  \n",
            "Year of Wonders                                        0.0     0.0     0.0  \n",
            "You Belong To Me                                       0.0     0.0     0.0  \n",
            "Zen and the Art of Motorcycle Maintenance: An I...     0.0     0.0     0.0  \n",
            "\\O\\\" Is for Outlaw\"                                    0.0     0.0     0.0  \n",
            "\n",
            "[673 rows x 888 columns]\n"
          ]
        }
      ]
    },
    {
      "cell_type": "code",
      "source": [
        "books_with_ratings_matrix= csr_matrix(books_with_ratingspv.values)"
      ],
      "metadata": {
        "id": "jquDSXfraR23"
      },
      "execution_count": null,
      "outputs": []
    },
    {
      "cell_type": "code",
      "source": [
        "model=NearestNeighbors(algorithm='auto',metric='cosine')\n",
        "model.fit(books_with_ratings_matrix)"
      ],
      "metadata": {
        "colab": {
          "base_uri": "https://localhost:8080/"
        },
        "id": "GjpkrOO9bPRA",
        "outputId": "96167f8b-983a-44b5-a89b-4b95c21ffc0b"
      },
      "execution_count": null,
      "outputs": [
        {
          "output_type": "execute_result",
          "data": {
            "text/plain": [
              "NearestNeighbors(metric='cosine')"
            ]
          },
          "metadata": {},
          "execution_count": 13
        }
      ]
    },
    {
      "cell_type": "code",
      "execution_count": null,
      "metadata": {
        "id": "f5ZUd-L1SQz7"
      },
      "outputs": [],
      "source": [
        "# function to return recommended books - this will be tested\n",
        "def get_recommends(book = \"\"):\n",
        "  X=books_with_ratingspv[books_with_ratingspv.index==book]\n",
        "  X=X.to_numpy().reshape(1,-1)\n",
        "  distances,indices=model.kneighbors(X,n_neighbors=8)\n",
        "  rec_books=[]\n",
        "  for x in reversed(range(1,6)):\n",
        "    bookrec=[books_with_ratingspv.index[indices.flatten()[x]],distances.flatten()[x]]\n",
        "    rec_books.append(bookrec)\n",
        "  rec_books=[book,rec_books]\n",
        "  return rec_books"
      ]
    },
    {
      "cell_type": "markdown",
      "metadata": {
        "id": "eat9A2TKawHU"
      },
      "source": [
        "Use the cell below to test your function. The `test_book_recommendation()` function will inform you if you passed the challenge or need to keep trying."
      ]
    },
    {
      "cell_type": "code",
      "execution_count": null,
      "metadata": {
        "id": "jd2SLCh8oxMh",
        "colab": {
          "base_uri": "https://localhost:8080/"
        },
        "outputId": "05de6e31-9818-4904-be42-4205e52c37ce"
      },
      "outputs": [
        {
          "output_type": "stream",
          "name": "stdout",
          "text": [
            "[\"Where the Heart Is (Oprah's Book Club (Paperback))\", [[\"I'll Be Seeing You\", 0.8016211], ['The Weight of Water', 0.77085835], ['The Surgeon', 0.7699411], ['I Know This Much Is True', 0.7677075], ['The Lovely Bones: A Novel', 0.7234864]]]\n",
            "You passed the challenge! 🎉🎉🎉🎉🎉\n"
          ]
        }
      ],
      "source": [
        "books = get_recommends(\"Where the Heart Is (Oprah's Book Club (Paperback))\")\n",
        "print(books)\n",
        "\n",
        "def test_book_recommendation():\n",
        "  test_pass = True\n",
        "  recommends = get_recommends(\"Where the Heart Is (Oprah's Book Club (Paperback))\")\n",
        "  if recommends[0] != \"Where the Heart Is (Oprah's Book Club (Paperback))\":\n",
        "    test_pass = False\n",
        "  recommended_books = [\"I'll Be Seeing You\", 'The Weight of Water', 'The Surgeon', 'I Know This Much Is True']\n",
        "  recommended_books_dist = [0.8, 0.77, 0.77, 0.77]\n",
        "  for i in range(2): \n",
        "    if recommends[1][i][0] not in recommended_books:\n",
        "      test_pass = False\n",
        "    if abs(recommends[1][i][1] - recommended_books_dist[i]) >= 0.05:\n",
        "      test_pass = False\n",
        "  if test_pass:\n",
        "    print(\"You passed the challenge! 🎉🎉🎉🎉🎉\")\n",
        "  else:\n",
        "    print(\"You haven't passed yet. Keep trying!\")\n",
        "\n",
        "test_book_recommendation()"
      ]
    }
  ],
  "metadata": {
    "colab": {
      "collapsed_sections": [],
      "provenance": [],
      "include_colab_link": true
    },
    "kernelspec": {
      "display_name": "Python 3",
      "language": "python",
      "name": "python3"
    },
    "language_info": {
      "codemirror_mode": {
        "name": "ipython",
        "version": 3
      },
      "file_extension": ".py",
      "mimetype": "text/x-python",
      "name": "python",
      "nbconvert_exporter": "python",
      "pygments_lexer": "ipython3",
      "version": "3.6.5"
    },
    "accelerator": "GPU",
    "gpuClass": "standard"
  },
  "nbformat": 4,
  "nbformat_minor": 0
}